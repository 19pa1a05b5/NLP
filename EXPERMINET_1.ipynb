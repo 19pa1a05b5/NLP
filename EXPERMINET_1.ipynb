{
  "nbformat": 4,
  "nbformat_minor": 0,
  "metadata": {
    "colab": {
      "name": "EXPERMINET 1.ipynb",
      "provenance": [],
      "collapsed_sections": [],
      "authorship_tag": "ABX9TyPUUHomFbBgZkjlJuZ7CweY",
      "include_colab_link": true
    },
    "kernelspec": {
      "name": "python3",
      "display_name": "Python 3"
    },
    "language_info": {
      "name": "python"
    }
  },
  "cells": [
    {
      "cell_type": "markdown",
      "metadata": {
        "id": "view-in-github",
        "colab_type": "text"
      },
      "source": [
        "<a href=\"https://colab.research.google.com/github/19pa1a05b5/NLP/blob/main/EXPERMINET_1.ipynb\" target=\"_parent\"><img src=\"https://colab.research.google.com/assets/colab-badge.svg\" alt=\"Open In Colab\"/></a>"
      ]
    },
    {
      "cell_type": "code",
      "metadata": {
        "id": "UN3ZKxESrBoC"
      },
      "source": [
        "#importing regular expressions\n",
        "import re"
      ],
      "execution_count": null,
      "outputs": []
    },
    {
      "cell_type": "markdown",
      "metadata": {
        "id": "l5sQP1ATR__7"
      },
      "source": [
        "**1. Replace all occurrences of 5 with ‘five’ for the given string**"
      ]
    },
    {
      "cell_type": "code",
      "metadata": {
        "colab": {
          "base_uri": "https://localhost:8080/",
          "height": 54
        },
        "id": "2DjTz4WdrYYO",
        "outputId": "f3826c3c-6666-4a1b-d87b-6dc070ffbde8"
      },
      "source": [
        "#Sample String\n",
        "Str=\"I have been working for 5 hours for 5 days in a week to clear my 5 subjects.\"\n",
        "\n",
        "#Replacing all occurences of 5 with \"five\" in the string\n",
        "Str.replace('5', 'five')"
      ],
      "execution_count": null,
      "outputs": [
        {
          "output_type": "execute_result",
          "data": {
            "application/vnd.google.colaboratory.intrinsic+json": {
              "type": "string"
            },
            "text/plain": [
              "'I have been working for five hours for five days in a week to clear my five subjects.'"
            ]
          },
          "metadata": {},
          "execution_count": 14
        }
      ]
    },
    {
      "cell_type": "markdown",
      "metadata": {
        "id": "JTwp5T_dSEeK"
      },
      "source": [
        "**2. For the given list, filter all elements that do not contain ‘e’.**"
      ]
    },
    {
      "cell_type": "code",
      "metadata": {
        "colab": {
          "base_uri": "https://localhost:8080/"
        },
        "id": "CHga9JBNwHa8",
        "outputId": "d75be86c-2f6e-4e6e-be9a-7368fa308fef"
      },
      "source": [
        "#List of planets\n",
        "planets=['Mercury', 'Venus', 'Earth', 'Mars', 'Jupiter', 'Saturn', 'Uranus', 'Neptune']\n",
        "\n",
        "#Planets do not contain letter 'e'\n",
        "[i for i in planets if not re.search('e', i, flags=re.I)]"
      ],
      "execution_count": 22,
      "outputs": [
        {
          "output_type": "execute_result",
          "data": {
            "text/plain": [
              "['Mars', 'Saturn', 'Uranus']"
            ]
          },
          "metadata": {},
          "execution_count": 22
        }
      ]
    },
    {
      "cell_type": "markdown",
      "metadata": {
        "id": "kFAEwsHSSKeX"
      },
      "source": [
        "**3. For the given input string, display all lines not containing ‘start’ irrespective of case.**"
      ]
    },
    {
      "cell_type": "code",
      "metadata": {
        "colab": {
          "base_uri": "https://localhost:8080/"
        },
        "id": "VQGRcbl3yiR6",
        "outputId": "896e3e56-7ee3-4e17-8d94-7617dd6d48bc"
      },
      "source": [
        "#String with multiple lines\n",
        "para='''Start hello world line1\n",
        "hello world line2\n",
        "hello world line3 start\n",
        "hello world line4\n",
        "sTaRt line 5'''\n",
        "\n",
        "#Displaying all lines not containing \"start\" irrespective of case.\n",
        "for l in para.split('\\n'):\n",
        "  if not re.search('start', l, flags=re.I):\n",
        "    print(l)"
      ],
      "execution_count": 26,
      "outputs": [
        {
          "output_type": "stream",
          "name": "stdout",
          "text": [
            "hello world line2\n",
            "hello world line4\n"
          ]
        }
      ]
    },
    {
      "cell_type": "markdown",
      "metadata": {
        "id": "9zkuEWGSScYR"
      },
      "source": [
        "**4. For the given input list, filter all elements that contains 42 surrounded by word characters.**"
      ]
    },
    {
      "cell_type": "code",
      "metadata": {
        "colab": {
          "base_uri": "https://localhost:8080/"
        },
        "id": "5Yfw8pKU2V2z",
        "outputId": "b0319a97-e68e-45e5-b91b-35de13446d06"
      },
      "source": [
        "ele=['asd42', 'hca42dgc', 'ad42@hjaj', 'k42p', '1faf2sdc45', '142o']\n",
        "\n",
        "[i for i in ele if re.search('\\w[4][2]\\w', i)]"
      ],
      "execution_count": 58,
      "outputs": [
        {
          "output_type": "execute_result",
          "data": {
            "text/plain": [
              "['hca42dgc', 'k42p', '142o']"
            ]
          },
          "metadata": {},
          "execution_count": 58
        }
      ]
    },
    {
      "cell_type": "markdown",
      "metadata": {
        "id": "Y-AvO2JRSphh"
      },
      "source": [
        "**5. Validate the CVV number(It should have 3 or 4 digits, It should have a digit between 0-9, It should not have any alphabets and special characters)**"
      ]
    },
    {
      "cell_type": "code",
      "metadata": {
        "colab": {
          "base_uri": "https://localhost:8080/"
        },
        "id": "U4vwI8zc69F4",
        "outputId": "a7f4cdcf-7b59-4f8e-f5b5-e0002ea0f865"
      },
      "source": [
        "cvv1='4567'\n",
        "cvv2='656'\n",
        "cvv3='er5y'\n",
        "\n",
        "def validate(cvv):\n",
        "  if re.search('^[0-9]{3,4}$', cvv):\n",
        "    return True\n",
        "  return False\n",
        "\n",
        "print(validate(cvv1))\n",
        "print(validate(cvv2))\n",
        "print(validate(cvv3))"
      ],
      "execution_count": 25,
      "outputs": [
        {
          "output_type": "stream",
          "name": "stdout",
          "text": [
            "True\n",
            "True\n",
            "False\n"
          ]
        }
      ]
    },
    {
      "cell_type": "markdown",
      "metadata": {
        "id": "N4Cqn8ANSvba"
      },
      "source": [
        "**6. For the given input string, change whole word mall to 1234 only if it is at the start of a line**"
      ]
    },
    {
      "cell_type": "code",
      "metadata": {
        "colab": {
          "base_uri": "https://localhost:8080/"
        },
        "id": "By25gELyR4Mj",
        "outputId": "1f160b13-752d-4f98-e22f-a3851876265b"
      },
      "source": [
        "Str='''kmall\n",
        "mall is open\n",
        "he went to mall'''\n",
        "\n",
        "print(re.sub('^mall', '1234', Str, flags=re.M))"
      ],
      "execution_count": 54,
      "outputs": [
        {
          "output_type": "stream",
          "name": "stdout",
          "text": [
            "kmall\n",
            "1234 is open\n",
            "he went to mall\n"
          ]
        }
      ]
    },
    {
      "cell_type": "markdown",
      "metadata": {
        "id": "HW-dEZ0RYPrt"
      },
      "source": [
        "**7. Check whether the given email address is valid or not.**"
      ]
    },
    {
      "cell_type": "code",
      "metadata": {
        "colab": {
          "base_uri": "https://localhost:8080/"
        },
        "id": "QbTtuZvJYZ2D",
        "outputId": "15876e8e-9d02-4549-9984-209b5b675bbd"
      },
      "source": [
        "email='19pa1a05b5@gmail.com'\n",
        "\n",
        "def valid_email(x):\n",
        "  if re.search('^[a-z0-9]+[\\._]?[ a-z0-9]+[@]\\w+[. ]\\w{2,3}$',x):\n",
        "    return True\n",
        "  return False\n",
        "\n",
        "print(valid_email(email))"
      ],
      "execution_count": 63,
      "outputs": [
        {
          "output_type": "stream",
          "name": "stdout",
          "text": [
            "True\n"
          ]
        }
      ]
    },
    {
      "cell_type": "markdown",
      "metadata": {
        "id": "8ieirfs2ZTa_"
      },
      "source": [
        "**8. Check whether the Aadhar number is valid or not ( It should have 12 digits, It should not start with 0 and 1, It should not contain any alphabet and special characters, It should have white space after every 4 digits)**"
      ]
    },
    {
      "cell_type": "code",
      "metadata": {
        "colab": {
          "base_uri": "https://localhost:8080/"
        },
        "id": "FYSePCHiZWVz",
        "outputId": "f66d1182-050b-4f8f-cca6-dbdf2c07a46e"
      },
      "source": [
        "Aadhar1='2345 3456 4567'\n",
        "Aadhar2='1234 2345 3456'\n",
        "Aadhar3='23456 345 4567'\n",
        "Aadhar4='4567 45675675'\n",
        "\n",
        "def validAadhar(x):\n",
        "  if re.search(r'^[2-9][0-9]{3}[\" \"][0-9]{4}[\" \"][0-9]{4}', x):\n",
        "    return True\n",
        "  return False\n",
        "\n",
        "print(validAadhar(Aadhar1))\n",
        "print(validAadhar(Aadhar2))\n",
        "print(validAadhar(Aadhar3))\n",
        "print(validAadhar(Aadhar4))"
      ],
      "execution_count": 62,
      "outputs": [
        {
          "output_type": "stream",
          "name": "stdout",
          "text": [
            "True\n",
            "False\n",
            "False\n",
            "False\n"
          ]
        }
      ]
    }
  ]
}