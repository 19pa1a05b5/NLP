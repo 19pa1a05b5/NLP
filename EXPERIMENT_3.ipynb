{
  "nbformat": 4,
  "nbformat_minor": 0,
  "metadata": {
    "colab": {
      "name": "EXPERIMENT 3.ipynb",
      "provenance": [],
      "authorship_tag": "ABX9TyPtD7rebXkkC+nUIsuagzE7",
      "include_colab_link": true
    },
    "kernelspec": {
      "name": "python3",
      "display_name": "Python 3"
    },
    "language_info": {
      "name": "python"
    }
  },
  "cells": [
    {
      "cell_type": "markdown",
      "metadata": {
        "id": "view-in-github",
        "colab_type": "text"
      },
      "source": [
        "<a href=\"https://colab.research.google.com/github/19pa1a05b5/NLP/blob/main/EXPERIMENT_3.ipynb\" target=\"_parent\"><img src=\"https://colab.research.google.com/assets/colab-badge.svg\" alt=\"Open In Colab\"/></a>"
      ]
    },
    {
      "cell_type": "markdown",
      "metadata": {
        "id": "yfwAEYulLks5"
      },
      "source": [
        "**1. Write a program to implement the Minimum Edit Distance algorithm using Python.**\n"
      ]
    },
    {
      "cell_type": "code",
      "metadata": {
        "id": "NqAKeLqRLXCp"
      },
      "source": [
        "#importing numpy library\n",
        "import numpy as np"
      ],
      "execution_count": 1,
      "outputs": []
    },
    {
      "cell_type": "code",
      "metadata": {
        "colab": {
          "base_uri": "https://localhost:8080/"
        },
        "id": "rojAsVLwLxWx",
        "outputId": "9f78384e-e136-4328-b2d2-86141b251aff"
      },
      "source": [
        "def min_edit_dist(S1, S2):\n",
        "  len1, len2 = len(S1), len(S2)\n",
        "  table = np.zeros((len1+1 , len2+1), dtype=int)\n",
        "\n",
        "  for i in range(1,len1+1):\n",
        "    table[i,0] = table[i-1, 0] + 1 #deleting (cost=1)\n",
        "  for j in range(1,len2+1):\n",
        "    table[0,i] = table[0,i-1] + 1 #inserting (cost=1)\n",
        "  \n",
        "  for i in range(1,len1+1):\n",
        "    for j in range(1,len2+1):\n",
        "      table[i, j] = min(\n",
        "          table[i-1, j] + 1,\n",
        "          table[i, j-1] + 1,\n",
        "          table[i-1, j-1] if (S1[i-1]==S2[j-1]) else table[i-1, j-1]+2\n",
        "          )\n",
        "  print(table)\n",
        "  return table[len1,len2]\n",
        "\n",
        "source = \"test\"\n",
        "target = \"text\"\n",
        "print(f\"Minimum Edit Distance between {source} and {target} is: {min_edit_dist(source, target)}\")"
      ],
      "execution_count": 4,
      "outputs": [
        {
          "output_type": "stream",
          "name": "stdout",
          "text": [
            "[[0 0 0 0 1]\n",
            " [1 0 1 1 0]\n",
            " [2 1 0 1 1]\n",
            " [3 2 1 2 2]\n",
            " [4 3 2 3 2]]\n",
            "Minimum Edit Distance between test and text is: 2\n"
          ]
        }
      ]
    }
  ]
}